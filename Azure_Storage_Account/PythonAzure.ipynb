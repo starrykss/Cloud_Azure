{
 "cells": [
  {
   "attachments": {},
   "cell_type": "markdown",
   "metadata": {},
   "source": [
    "# **Python Azure**\n",
    "---\n",
    "\n",
    "Blob Storage에 파일을 올리는 과정을 실습해본다."
   ]
  },
  {
   "cell_type": "code",
   "execution_count": 1,
   "metadata": {},
   "outputs": [
    {
     "name": "stdout",
     "output_type": "stream",
     "text": [
      "Requirement already satisfied: azure-storage-blob in c:\\users\\kss34\\anaconda3\\lib\\site-packages (12.16.0)\n",
      "Requirement already satisfied: azure-identity in c:\\users\\kss34\\anaconda3\\lib\\site-packages (1.12.0)\n",
      "Requirement already satisfied: isodate>=0.6.1 in c:\\users\\kss34\\anaconda3\\lib\\site-packages (from azure-storage-blob) (0.6.1)\n",
      "Requirement already satisfied: azure-core<2.0.0,>=1.26.0 in c:\\users\\kss34\\anaconda3\\lib\\site-packages (from azure-storage-blob) (1.26.4)\n",
      "Requirement already satisfied: typing-extensions>=4.0.1 in c:\\users\\kss34\\anaconda3\\lib\\site-packages (from azure-storage-blob) (4.4.0)\n",
      "Requirement already satisfied: cryptography>=2.1.4 in c:\\users\\kss34\\anaconda3\\lib\\site-packages (from azure-storage-blob) (39.0.1)\n",
      "Requirement already satisfied: msal-extensions<2.0.0,>=0.3.0 in c:\\users\\kss34\\anaconda3\\lib\\site-packages (from azure-identity) (1.0.0)\n",
      "Requirement already satisfied: six>=1.12.0 in c:\\users\\kss34\\anaconda3\\lib\\site-packages (from azure-identity) (1.16.0)\n",
      "Requirement already satisfied: msal<2.0.0,>=1.12.0 in c:\\users\\kss34\\anaconda3\\lib\\site-packages (from azure-identity) (1.22.0)\n",
      "Requirement already satisfied: requests>=2.18.4 in c:\\users\\kss34\\anaconda3\\lib\\site-packages (from azure-core<2.0.0,>=1.26.0->azure-storage-blob) (2.28.1)\n",
      "Requirement already satisfied: cffi>=1.12 in c:\\users\\kss34\\anaconda3\\lib\\site-packages (from cryptography>=2.1.4->azure-storage-blob) (1.15.1)\n",
      "Requirement already satisfied: PyJWT[crypto]<3,>=1.0.0 in c:\\users\\kss34\\anaconda3\\lib\\site-packages (from msal<2.0.0,>=1.12.0->azure-identity) (2.4.0)\n",
      "Requirement already satisfied: portalocker<3,>=1.6 in c:\\users\\kss34\\anaconda3\\lib\\site-packages (from msal-extensions<2.0.0,>=0.3.0->azure-identity) (2.7.0)\n",
      "Requirement already satisfied: pycparser in c:\\users\\kss34\\anaconda3\\lib\\site-packages (from cffi>=1.12->cryptography>=2.1.4->azure-storage-blob) (2.21)\n",
      "Requirement already satisfied: pywin32>=226 in c:\\users\\kss34\\anaconda3\\lib\\site-packages (from portalocker<3,>=1.6->msal-extensions<2.0.0,>=0.3.0->azure-identity) (305.1)\n",
      "Requirement already satisfied: idna<4,>=2.5 in c:\\users\\kss34\\anaconda3\\lib\\site-packages (from requests>=2.18.4->azure-core<2.0.0,>=1.26.0->azure-storage-blob) (3.4)\n",
      "Requirement already satisfied: certifi>=2017.4.17 in c:\\users\\kss34\\anaconda3\\lib\\site-packages (from requests>=2.18.4->azure-core<2.0.0,>=1.26.0->azure-storage-blob) (2022.12.7)\n",
      "Requirement already satisfied: charset-normalizer<3,>=2 in c:\\users\\kss34\\anaconda3\\lib\\site-packages (from requests>=2.18.4->azure-core<2.0.0,>=1.26.0->azure-storage-blob) (2.0.4)\n",
      "Requirement already satisfied: urllib3<1.27,>=1.21.1 in c:\\users\\kss34\\anaconda3\\lib\\site-packages (from requests>=2.18.4->azure-core<2.0.0,>=1.26.0->azure-storage-blob) (1.26.14)\n"
     ]
    }
   ],
   "source": [
    "!pip install azure-storage-blob azure-identity"
   ]
  },
  {
   "cell_type": "code",
   "execution_count": 2,
   "metadata": {},
   "outputs": [],
   "source": [
    "import os, uuid\n",
    "from azure.identity import DefaultAzureCredential\n",
    "from azure.storage.blob import BlobServiceClient, BlobClient, ContainerClient"
   ]
  },
  {
   "cell_type": "code",
   "execution_count": 3,
   "metadata": {},
   "outputs": [],
   "source": [
    "# Azure에서 복사한 '연결 문자열'을 이용하여 Blob 서버에 접속하기\n",
    "connect_str = '***************************************************'             # 연결 문자열 ✅\n",
    "blob_service_client = BlobServiceClient.from_connection_string(connect_str)     # 연결 문자열을 이용해서 Blob Service에 연결"
   ]
  },
  {
   "cell_type": "code",
   "execution_count": 4,
   "metadata": {},
   "outputs": [],
   "source": [
    "container_name = 'test22container'\n",
    "\n",
    "container_client = blob_service_client.create_container(container_name)"
   ]
  },
  {
   "cell_type": "code",
   "execution_count": 5,
   "metadata": {},
   "outputs": [],
   "source": [
    "# Create a local directory to hold blob data\n",
    "local_path = './data'\n",
    "os.mkdir(local_path)\n",
    "\n",
    "# Create a file in the local directory\n",
    "local_file_name = 'welcome' + '.txt'\n",
    "upload_file_path = os.path.join(local_path, local_file_name)\n",
    "\n",
    "# Write text to the file\n",
    "file = open(upload_file_path, mode='w')\n",
    "file.write('Welcome to Python')\n",
    "file.close()     # Close를 안하면 파일이 나중에 잘 깨진다. (0B 파일들)"
   ]
  },
  {
   "cell_type": "code",
   "execution_count": 6,
   "metadata": {},
   "outputs": [],
   "source": [
    "blob_client = blob_service_client.get_blob_client(container=container_name, blob=local_file_name)\n",
    "with open(file=upload_file_path, mode='rb') as data:\n",
    "    blob_client.upload_blob(data)"
   ]
  }
 ],
 "metadata": {
  "kernelspec": {
   "display_name": "base",
   "language": "python",
   "name": "python3"
  },
  "language_info": {
   "codemirror_mode": {
    "name": "ipython",
    "version": 3
   },
   "file_extension": ".py",
   "mimetype": "text/x-python",
   "name": "python",
   "nbconvert_exporter": "python",
   "pygments_lexer": "ipython3",
   "version": "3.10.9"
  },
  "orig_nbformat": 4
 },
 "nbformat": 4,
 "nbformat_minor": 2
}
