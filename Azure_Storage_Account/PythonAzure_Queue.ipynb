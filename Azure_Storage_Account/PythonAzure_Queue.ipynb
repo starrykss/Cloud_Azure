{
 "cells": [
  {
   "attachments": {},
   "cell_type": "markdown",
   "metadata": {},
   "source": [
    "# **Python Azure 03**\n",
    "---\n",
    "\n",
    "💡 Queue에 메시지를 올리는 과정을 실습해본다. 큐는 안정적인 서비스 유지를 위해 사용된다.\n"
   ]
  },
  {
   "attachments": {},
   "cell_type": "markdown",
   "metadata": {},
   "source": [
    "- 실습을 위해 필요한 패키지를 설치한다."
   ]
  },
  {
   "cell_type": "code",
   "execution_count": 1,
   "metadata": {},
   "outputs": [
    {
     "name": "stdout",
     "output_type": "stream",
     "text": [
      "Collecting azure-storage-queue==2.1.0\n",
      "  Downloading azure_storage_queue-2.1.0-py2.py3-none-any.whl (24 kB)\n",
      "Requirement already satisfied: azure-common>=1.1.5 in c:\\users\\kss34\\anaconda3\\lib\\site-packages (from azure-storage-queue==2.1.0) (1.1.28)\n",
      "Requirement already satisfied: azure-storage-common~=2.1 in c:\\users\\kss34\\anaconda3\\lib\\site-packages (from azure-storage-queue==2.1.0) (2.1.0)\n",
      "Requirement already satisfied: requests in c:\\users\\kss34\\anaconda3\\lib\\site-packages (from azure-storage-common~=2.1->azure-storage-queue==2.1.0) (2.29.0)\n",
      "Requirement already satisfied: cryptography in c:\\users\\kss34\\anaconda3\\lib\\site-packages (from azure-storage-common~=2.1->azure-storage-queue==2.1.0) (39.0.1)\n",
      "Requirement already satisfied: python-dateutil in c:\\users\\kss34\\anaconda3\\lib\\site-packages (from azure-storage-common~=2.1->azure-storage-queue==2.1.0) (2.8.2)\n",
      "Requirement already satisfied: cffi>=1.12 in c:\\users\\kss34\\anaconda3\\lib\\site-packages (from cryptography->azure-storage-common~=2.1->azure-storage-queue==2.1.0) (1.15.1)\n",
      "Requirement already satisfied: six>=1.5 in c:\\users\\kss34\\anaconda3\\lib\\site-packages (from python-dateutil->azure-storage-common~=2.1->azure-storage-queue==2.1.0) (1.16.0)\n",
      "Requirement already satisfied: charset-normalizer<4,>=2 in c:\\users\\kss34\\anaconda3\\lib\\site-packages (from requests->azure-storage-common~=2.1->azure-storage-queue==2.1.0) (2.0.4)\n",
      "Requirement already satisfied: certifi>=2017.4.17 in c:\\users\\kss34\\anaconda3\\lib\\site-packages (from requests->azure-storage-common~=2.1->azure-storage-queue==2.1.0) (2023.5.7)\n",
      "Requirement already satisfied: urllib3<1.27,>=1.21.1 in c:\\users\\kss34\\anaconda3\\lib\\site-packages (from requests->azure-storage-common~=2.1->azure-storage-queue==2.1.0) (1.26.15)\n",
      "Requirement already satisfied: idna<4,>=2.5 in c:\\users\\kss34\\anaconda3\\lib\\site-packages (from requests->azure-storage-common~=2.1->azure-storage-queue==2.1.0) (3.4)\n",
      "Requirement already satisfied: pycparser in c:\\users\\kss34\\anaconda3\\lib\\site-packages (from cffi>=1.12->cryptography->azure-storage-common~=2.1->azure-storage-queue==2.1.0) (2.21)\n",
      "Installing collected packages: azure-storage-queue\n",
      "Successfully installed azure-storage-queue-2.1.0\n"
     ]
    }
   ],
   "source": [
    "!pip install azure-storage-queue==2.1.0"
   ]
  },
  {
   "cell_type": "code",
   "execution_count": 2,
   "metadata": {},
   "outputs": [],
   "source": [
    "from azure.storage.queue import QueueService, QueueMessageFormat"
   ]
  },
  {
   "attachments": {},
   "cell_type": "markdown",
   "metadata": {},
   "source": [
    "- **연결 문자열**을 이용하여 연결한 후, `queue-myqueue`라는 이름의 큐를 Azure Storage Account에 생성한다."
   ]
  },
  {
   "cell_type": "code",
   "execution_count": 3,
   "metadata": {},
   "outputs": [
    {
     "data": {
      "text/plain": [
       "True"
      ]
     },
     "execution_count": 3,
     "metadata": {},
     "output_type": "execute_result"
    }
   ],
   "source": [
    "connect_str='************************************************************'    # 연결 문자열 ✅\n",
    "\n",
    "queue_name = 'queue-myqueue'\n",
    "queue_service = QueueService(connection_string=connect_str)\n",
    "\n",
    "queue_service.create_queue(queue_name)"
   ]
  },
  {
   "attachments": {},
   "cell_type": "markdown",
   "metadata": {},
   "source": [
    "- 큐에 **메시지** 를 저장해본다. \n",
    "    - 메시지로 변환하는 것을 **엔코드(Encode)** 라고 한다. (Encoding)\n",
    "    - 메시지를 풀어내는 것을 **디코드(Decode)** 라고 한다. (Decoding)"
   ]
  },
  {
   "cell_type": "code",
   "execution_count": 4,
   "metadata": {},
   "outputs": [],
   "source": [
    "queue_service.encode_function = QueueMessageFormat.binary_base64encode     # Encoding (메시지로 집어 넣는 것)\n",
    "queue_service.decode_function = QueueMessageFormat.binary_base64decode     # Decoding (메시지를 풀어 내는 것)"
   ]
  },
  {
   "cell_type": "code",
   "execution_count": 5,
   "metadata": {},
   "outputs": [
    {
     "name": "stdout",
     "output_type": "stream",
     "text": [
      "Adding message: Hello World2\n"
     ]
    },
    {
     "data": {
      "text/plain": [
       "<azure.storage.queue.models.QueueMessage at 0x21046ff1c90>"
      ]
     },
     "execution_count": 5,
     "metadata": {},
     "output_type": "execute_result"
    }
   ],
   "source": [
    "import base64                             \n",
    "message = 'Hello World2'\n",
    "print('Adding message: ' + message)\n",
    "\n",
    "message = base64.b64encode(message.encode('utf-8'))     # 안에 있는 내용들을 base64 방식으로 인코딩한다. (유니코드)\n",
    "queue_service.put_message(queue_name, message)          # 큐에 메시지를 집어 넣는다."
   ]
  },
  {
   "attachments": {},
   "cell_type": "markdown",
   "metadata": {},
   "source": [
    "- Azure Queue 페이지에서 암호화된 메시지를 확인할 수 있다.\n",
    "- 이제 이 암호화된(인코딩된) 메시지를 선택해서 가져온 후, 출력해본다."
   ]
  },
  {
   "cell_type": "code",
   "execution_count": 6,
   "metadata": {},
   "outputs": [
    {
     "name": "stdout",
     "output_type": "stream",
     "text": [
      "Peeked message: Hello World2\n"
     ]
    }
   ],
   "source": [
    "messages = queue_service.peek_messages(queue_name)     # 메시지를 선택해서 가져오기 : Peak 방식\n",
    "\n",
    "for peeked_message in messages:\n",
    "  message = base64.b64decode(peeked_message.content)    # 메시지를 base64 방식으로 디코딩한다.\n",
    "  print('Peeked message: ' + message.decode('utf-8'))"
   ]
  },
  {
   "attachments": {},
   "cell_type": "markdown",
   "metadata": {},
   "source": [
    "- Peak이 아닌 Get 방식으로 Azure Queue 페이지의 메시지를 가져와 본다.\n",
    "    - Peak 방식은 확인만 하는 것이다. 즉, 메시지를 가져오지 않는다. (간보기)\n",
    "    - Get 방식은 실제로 가져오는 것이다."
   ]
  },
  {
   "cell_type": "code",
   "execution_count": 7,
   "metadata": {},
   "outputs": [
    {
     "name": "stdout",
     "output_type": "stream",
     "text": [
      "Got message: Hello World2\n"
     ]
    }
   ],
   "source": [
    "messages = queue_service.get_messages(queue_name)    # 메시지를 선택해서 가져오기 : Get 방식\n",
    "\n",
    "for msg in messages:\n",
    "  message = base64.b64decode(msg.content)            # 메시지를 base64 방식으로 디코딩한다.\n",
    "  print('Got message: ' + message.decode('utf-8'))"
   ]
  },
  {
   "attachments": {},
   "cell_type": "markdown",
   "metadata": {},
   "source": [
    "- Azure 서버에 생성한 큐를 삭제한다."
   ]
  },
  {
   "cell_type": "code",
   "execution_count": 8,
   "metadata": {},
   "outputs": [
    {
     "data": {
      "text/plain": [
       "True"
      ]
     },
     "execution_count": 8,
     "metadata": {},
     "output_type": "execute_result"
    }
   ],
   "source": [
    "queue_service.delete_queue(queue_name)"
   ]
  }
 ],
 "metadata": {
  "kernelspec": {
   "display_name": "base",
   "language": "python",
   "name": "python3"
  },
  "language_info": {
   "codemirror_mode": {
    "name": "ipython",
    "version": 3
   },
   "file_extension": ".py",
   "mimetype": "text/x-python",
   "name": "python",
   "nbconvert_exporter": "python",
   "pygments_lexer": "ipython3",
   "version": "3.10.9"
  },
  "orig_nbformat": 4
 },
 "nbformat": 4,
 "nbformat_minor": 2
}
