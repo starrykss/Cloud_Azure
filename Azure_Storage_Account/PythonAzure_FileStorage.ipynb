{
 "cells": [
  {
   "attachments": {},
   "cell_type": "markdown",
   "metadata": {},
   "source": [
    "# **Python Azure 02**\n",
    "---\n",
    "\n",
    "💡 File Storage에 파일을 올리고, 확인한 후 Local Storage로 다운로드 받는 과정을 실습해본다. 그리고 스냅샷을 생성하고 생성했던 스냅샷, 파일 및 공유 폴더를 삭제해본다.\n"
   ]
  },
  {
   "attachments": {},
   "cell_type": "markdown",
   "metadata": {},
   "source": [
    "- 실습을 위해 필요한 패키지를 설치한다."
   ]
  },
  {
   "cell_type": "code",
   "execution_count": 61,
   "metadata": {},
   "outputs": [
    {
     "name": "stdout",
     "output_type": "stream",
     "text": [
      "Requirement already satisfied: azure-storage-file in c:\\users\\kss34\\anaconda3\\lib\\site-packages (2.1.0)\n",
      "Requirement already satisfied: azure-storage-common~=2.1 in c:\\users\\kss34\\anaconda3\\lib\\site-packages (from azure-storage-file) (2.1.0)\n",
      "Requirement already satisfied: azure-common>=1.1.5 in c:\\users\\kss34\\anaconda3\\lib\\site-packages (from azure-storage-file) (1.1.28)\n",
      "Requirement already satisfied: cryptography in c:\\users\\kss34\\anaconda3\\lib\\site-packages (from azure-storage-common~=2.1->azure-storage-file) (39.0.1)\n",
      "Requirement already satisfied: requests in c:\\users\\kss34\\anaconda3\\lib\\site-packages (from azure-storage-common~=2.1->azure-storage-file) (2.29.0)\n",
      "Requirement already satisfied: python-dateutil in c:\\users\\kss34\\anaconda3\\lib\\site-packages (from azure-storage-common~=2.1->azure-storage-file) (2.8.2)\n",
      "Requirement already satisfied: cffi>=1.12 in c:\\users\\kss34\\anaconda3\\lib\\site-packages (from cryptography->azure-storage-common~=2.1->azure-storage-file) (1.15.1)\n",
      "Requirement already satisfied: six>=1.5 in c:\\users\\kss34\\anaconda3\\lib\\site-packages (from python-dateutil->azure-storage-common~=2.1->azure-storage-file) (1.16.0)\n",
      "Requirement already satisfied: urllib3<1.27,>=1.21.1 in c:\\users\\kss34\\anaconda3\\lib\\site-packages (from requests->azure-storage-common~=2.1->azure-storage-file) (1.26.15)\n",
      "Requirement already satisfied: idna<4,>=2.5 in c:\\users\\kss34\\anaconda3\\lib\\site-packages (from requests->azure-storage-common~=2.1->azure-storage-file) (2.10)\n",
      "Requirement already satisfied: charset-normalizer<4,>=2 in c:\\users\\kss34\\anaconda3\\lib\\site-packages (from requests->azure-storage-common~=2.1->azure-storage-file) (2.0.4)\n",
      "Requirement already satisfied: certifi>=2017.4.17 in c:\\users\\kss34\\anaconda3\\lib\\site-packages (from requests->azure-storage-common~=2.1->azure-storage-file) (2023.5.7)\n",
      "Requirement already satisfied: pycparser in c:\\users\\kss34\\anaconda3\\lib\\site-packages (from cffi>=1.12->cryptography->azure-storage-common~=2.1->azure-storage-file) (2.21)\n"
     ]
    }
   ],
   "source": [
    "!pip install azure-storage-file"
   ]
  },
  {
   "attachments": {},
   "cell_type": "markdown",
   "metadata": {},
   "source": [
    "- Azure Storage Account의 이름(`account_name`)과 액세스 키(`account_key`)를 불러와 File Share와 연결을 시켜준다."
   ]
  },
  {
   "cell_type": "code",
   "execution_count": 31,
   "metadata": {},
   "outputs": [],
   "source": [
    "from azure.storage.file import FileService\n",
    "file_service = FileService(account_name='mylabuserstorage', account_key='*******************************************')    # 액세스 키 ✅"
   ]
  },
  {
   "attachments": {},
   "cell_type": "markdown",
   "metadata": {},
   "source": [
    "- File Storage에 새로운 폴더(`myshare`)를 하나 만든다."
   ]
  },
  {
   "cell_type": "code",
   "execution_count": 32,
   "metadata": {},
   "outputs": [
    {
     "data": {
      "text/plain": [
       "True"
      ]
     },
     "execution_count": 32,
     "metadata": {},
     "output_type": "execute_result"
    }
   ],
   "source": [
    "file_service.create_share('myshare')"
   ]
  },
  {
   "attachments": {},
   "cell_type": "markdown",
   "metadata": {},
   "source": [
    "- File Storage에 새로운 디렉터리를 생성한다. (`myshare` 폴더에 `sampledir` 폴더를 만든다.)"
   ]
  },
  {
   "cell_type": "code",
   "execution_count": 33,
   "metadata": {},
   "outputs": [
    {
     "data": {
      "text/plain": [
       "True"
      ]
     },
     "execution_count": 33,
     "metadata": {},
     "output_type": "execute_result"
    }
   ],
   "source": [
    "file_service.create_directory('myshare', 'sampledir')"
   ]
  },
  {
   "attachments": {},
   "cell_type": "markdown",
   "metadata": {},
   "source": [
    "- Local Storage의 이미지 파일(`iu.jfif`)을 `myfile.jfif`로 이름을 바꾸어 File Storage의 `sampledir` 폴더에 업로드한다."
   ]
  },
  {
   "cell_type": "code",
   "execution_count": 41,
   "metadata": {},
   "outputs": [],
   "source": [
    "from azure.storage.file import ContentSettings\n",
    "file_service.create_file_from_path(\n",
    "    'myshare',\n",
    "    'sampledir',\n",
    "    'myfile.jfif',\n",
    "    'iu.jfif'\n",
    ")"
   ]
  },
  {
   "attachments": {},
   "cell_type": "markdown",
   "metadata": {},
   "source": [
    "- File Storage의 `myshare` 디렉터리 내부 파일들의 목록을 출력한다."
   ]
  },
  {
   "cell_type": "code",
   "execution_count": 42,
   "metadata": {},
   "outputs": [
    {
     "name": "stdout",
     "output_type": "stream",
     "text": [
      "sampledir\n"
     ]
    }
   ],
   "source": [
    "# Directory 내용의 확인 \n",
    "generator = file_service.list_directories_and_files('myshare')\n",
    "for file_or_dir in generator:\n",
    "  print(file_or_dir.name)"
   ]
  },
  {
   "attachments": {},
   "cell_type": "markdown",
   "metadata": {},
   "source": [
    "- File Storage의 파일을 Local Storage로 다운로드한다.\n",
    "    - 다운로드를 하고 파일의 이름을 `IU_DOWNLOAD.jfif`로 바꾼다."
   ]
  },
  {
   "cell_type": "code",
   "execution_count": 43,
   "metadata": {},
   "outputs": [
    {
     "data": {
      "text/plain": [
       "<azure.storage.file.models.File at 0x1c59591b010>"
      ]
     },
     "execution_count": 43,
     "metadata": {},
     "output_type": "execute_result"
    }
   ],
   "source": [
    "# 파일을 가져오는 코드\n",
    "file_service.get_file_to_path('myshare', 'sampledir', 'myfile.jfif', 'IU_DOWNLOAD.jfif')"
   ]
  },
  {
   "attachments": {},
   "cell_type": "markdown",
   "metadata": {},
   "source": [
    "- 스냅샷을 만들어보고 확인해본다."
   ]
  },
  {
   "cell_type": "code",
   "execution_count": 44,
   "metadata": {},
   "outputs": [],
   "source": [
    "# Snapshot\n",
    "metadata = { 'foo' : 'bar' }\n",
    "snapshot = file_service.snapshot_share('myshare', metadata=metadata)"
   ]
  },
  {
   "cell_type": "code",
   "execution_count": 56,
   "metadata": {},
   "outputs": [
    {
     "name": "stdout",
     "output_type": "stream",
     "text": [
      "sampledir\n"
     ]
    }
   ],
   "source": [
    "# 확인\n",
    "share = list(file_service.list_shares(include_snapshots=True))\n",
    "\n",
    "directories_and_files = list(file_service.list_directories_and_files('myshare', snapshot='2023-05-14T12:09:25.0000000Z'))   # 지정된 스냅샷으로 돌아갈 수 있다.\n",
    "\n",
    "for file_or_dir in directories_and_files:\n",
    "    print(file_or_dir.name)"
   ]
  },
  {
   "attachments": {},
   "cell_type": "markdown",
   "metadata": {},
   "source": [
    "- 스냅샷을 삭제해본다."
   ]
  },
  {
   "cell_type": "code",
   "execution_count": 57,
   "metadata": {},
   "outputs": [
    {
     "data": {
      "text/plain": [
       "True"
      ]
     },
     "execution_count": 57,
     "metadata": {},
     "output_type": "execute_result"
    }
   ],
   "source": [
    "# 스냅샷 삭제\n",
    "file_service.delete_share('myshare', snapshot='2023-05-14T12:09:25.0000000Z')    # 특정 스냅샷만 삭제"
   ]
  },
  {
   "attachments": {},
   "cell_type": "markdown",
   "metadata": {},
   "source": [
    "- 지금까지 생성했던 **파일**을 삭제해본다. (`myshare/sampledir/myfile.jfif`)"
   ]
  },
  {
   "cell_type": "code",
   "execution_count": 46,
   "metadata": {},
   "outputs": [],
   "source": [
    "file_service.delete_file('myshare', 'sampledir', 'myfile.jfif')"
   ]
  },
  {
   "attachments": {},
   "cell_type": "markdown",
   "metadata": {},
   "source": [
    "- 생성했던 **공유 폴더** 자체를 삭제한다.\n",
    "    - 공유 폴더에 스냅샷이 들어있으면 삭제가 되지 않으니, 반드시 공유 폴더 안에 있는 스냅샷을 모두 지워준 후 이 작업을 수행한다."
   ]
  },
  {
   "cell_type": "code",
   "execution_count": 60,
   "metadata": {},
   "outputs": [
    {
     "data": {
      "text/plain": [
       "True"
      ]
     },
     "execution_count": 60,
     "metadata": {},
     "output_type": "execute_result"
    }
   ],
   "source": [
    "file_service.delete_share('myshare')     "
   ]
  }
 ],
 "metadata": {
  "kernelspec": {
   "display_name": "base",
   "language": "python",
   "name": "python3"
  },
  "language_info": {
   "codemirror_mode": {
    "name": "ipython",
    "version": 3
   },
   "file_extension": ".py",
   "mimetype": "text/x-python",
   "name": "python",
   "nbconvert_exporter": "python",
   "pygments_lexer": "ipython3",
   "version": "3.10.9"
  },
  "orig_nbformat": 4
 },
 "nbformat": 4,
 "nbformat_minor": 2
}
