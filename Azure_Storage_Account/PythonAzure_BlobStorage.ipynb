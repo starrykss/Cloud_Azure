{
 "cells": [
  {
   "attachments": {},
   "cell_type": "markdown",
   "metadata": {},
   "source": [
    "# **Python Azure 01**\n",
    "---\n",
    "\n",
    "💡 Blob Storage에 파일을 올리고, 확인하고 Local Storage로 다운로드 받는 과정을 실습해본다."
   ]
  },
  {
   "attachments": {},
   "cell_type": "markdown",
   "metadata": {},
   "source": [
    "- 필요한 패키지를 설치한다."
   ]
  },
  {
   "cell_type": "code",
   "execution_count": 28,
   "metadata": {},
   "outputs": [
    {
     "name": "stdout",
     "output_type": "stream",
     "text": [
      "Requirement already satisfied: azure-storage-blob in c:\\users\\kss34\\anaconda3\\lib\\site-packages (12.16.0)\n",
      "Requirement already satisfied: azure-identity in c:\\users\\kss34\\anaconda3\\lib\\site-packages (1.12.0)\n",
      "Requirement already satisfied: azure-core<2.0.0,>=1.26.0 in c:\\users\\kss34\\anaconda3\\lib\\site-packages (from azure-storage-blob) (1.26.4)\n",
      "Requirement already satisfied: cryptography>=2.1.4 in c:\\users\\kss34\\anaconda3\\lib\\site-packages (from azure-storage-blob) (39.0.1)\n",
      "Requirement already satisfied: isodate>=0.6.1 in c:\\users\\kss34\\anaconda3\\lib\\site-packages (from azure-storage-blob) (0.6.1)\n",
      "Requirement already satisfied: typing-extensions>=4.0.1 in c:\\users\\kss34\\anaconda3\\lib\\site-packages (from azure-storage-blob) (4.4.0)\n",
      "Requirement already satisfied: six>=1.12.0 in c:\\users\\kss34\\anaconda3\\lib\\site-packages (from azure-identity) (1.16.0)\n",
      "Requirement already satisfied: msal-extensions<2.0.0,>=0.3.0 in c:\\users\\kss34\\anaconda3\\lib\\site-packages (from azure-identity) (1.0.0)\n",
      "Requirement already satisfied: msal<2.0.0,>=1.12.0 in c:\\users\\kss34\\anaconda3\\lib\\site-packages (from azure-identity) (1.22.0)\n",
      "Requirement already satisfied: requests>=2.18.4 in c:\\users\\kss34\\anaconda3\\lib\\site-packages (from azure-core<2.0.0,>=1.26.0->azure-storage-blob) (2.28.1)\n",
      "Requirement already satisfied: cffi>=1.12 in c:\\users\\kss34\\anaconda3\\lib\\site-packages (from cryptography>=2.1.4->azure-storage-blob) (1.15.1)\n",
      "Requirement already satisfied: PyJWT[crypto]<3,>=1.0.0 in c:\\users\\kss34\\anaconda3\\lib\\site-packages (from msal<2.0.0,>=1.12.0->azure-identity) (2.4.0)\n",
      "Requirement already satisfied: portalocker<3,>=1.6 in c:\\users\\kss34\\anaconda3\\lib\\site-packages (from msal-extensions<2.0.0,>=0.3.0->azure-identity) (2.7.0)\n",
      "Requirement already satisfied: pycparser in c:\\users\\kss34\\anaconda3\\lib\\site-packages (from cffi>=1.12->cryptography>=2.1.4->azure-storage-blob) (2.21)\n",
      "Requirement already satisfied: pywin32>=226 in c:\\users\\kss34\\anaconda3\\lib\\site-packages (from portalocker<3,>=1.6->msal-extensions<2.0.0,>=0.3.0->azure-identity) (305.1)\n",
      "Requirement already satisfied: urllib3<1.27,>=1.21.1 in c:\\users\\kss34\\anaconda3\\lib\\site-packages (from requests>=2.18.4->azure-core<2.0.0,>=1.26.0->azure-storage-blob) (1.26.14)\n",
      "Requirement already satisfied: idna<4,>=2.5 in c:\\users\\kss34\\anaconda3\\lib\\site-packages (from requests>=2.18.4->azure-core<2.0.0,>=1.26.0->azure-storage-blob) (3.4)\n",
      "Requirement already satisfied: certifi>=2017.4.17 in c:\\users\\kss34\\anaconda3\\lib\\site-packages (from requests>=2.18.4->azure-core<2.0.0,>=1.26.0->azure-storage-blob) (2022.12.7)\n",
      "Requirement already satisfied: charset-normalizer<3,>=2 in c:\\users\\kss34\\anaconda3\\lib\\site-packages (from requests>=2.18.4->azure-core<2.0.0,>=1.26.0->azure-storage-blob) (2.0.4)\n"
     ]
    }
   ],
   "source": [
    "# 필요한 패키지 설치\n",
    "!pip install azure-storage-blob azure-identity"
   ]
  },
  {
   "cell_type": "code",
   "execution_count": 29,
   "metadata": {},
   "outputs": [],
   "source": [
    "import os, uuid\n",
    "from azure.identity import DefaultAzureCredential\n",
    "from azure.storage.blob import BlobServiceClient, BlobClient, ContainerClient"
   ]
  },
  {
   "attachments": {},
   "cell_type": "markdown",
   "metadata": {},
   "source": [
    "- Azure에서 연결 문자열을 가져와 연결 문자열을 이용하여 Azure Blob 서버에 접속한다."
   ]
  },
  {
   "cell_type": "code",
   "execution_count": 30,
   "metadata": {},
   "outputs": [],
   "source": [
    "# Azure에서 복사한 '연결 문자열'을 이용하여 Blob 서버에 접속하기\n",
    "connect_str = '***************************************************'             # 연결 문자열 ✅\n",
    "blob_service_client = BlobServiceClient.from_connection_string(connect_str)     # 연결 문자열을 이용해서 Blob Service에 연결"
   ]
  },
  {
   "attachments": {},
   "cell_type": "markdown",
   "metadata": {},
   "source": [
    "- 원격으로 Blob Storage에 컨테이너를 생성한다."
   ]
  },
  {
   "cell_type": "code",
   "execution_count": 31,
   "metadata": {},
   "outputs": [],
   "source": [
    "container_name = 'test33container'\n",
    "\n",
    "container_client = blob_service_client.create_container(container_name)"
   ]
  },
  {
   "attachments": {},
   "cell_type": "markdown",
   "metadata": {},
   "source": [
    "- Local Storage에서 파일을 생성한다."
   ]
  },
  {
   "cell_type": "code",
   "execution_count": 32,
   "metadata": {},
   "outputs": [],
   "source": [
    "# Create a local directory to hold blob data\n",
    "local_path = './data'\n",
    "os.mkdir(local_path)\n",
    "\n",
    "# Create a file in the local directory\n",
    "local_file_name = 'welcome' + '.txt'\n",
    "upload_file_path = os.path.join(local_path, local_file_name)\n",
    "\n",
    "# Write text to the file\n",
    "file = open(upload_file_path, mode='w')\n",
    "file.write('Welcome to Python')\n",
    "file.close()     # Close를 안하면 파일이 나중에 잘 깨진다. (0B 파일들)"
   ]
  },
  {
   "attachments": {},
   "cell_type": "markdown",
   "metadata": {},
   "source": [
    "- Blob Storage에 Local Storage에서 만든 파일을 업로드한다."
   ]
  },
  {
   "cell_type": "code",
   "execution_count": 33,
   "metadata": {},
   "outputs": [],
   "source": [
    "blob_client = blob_service_client.get_blob_client(container=container_name, blob=local_file_name)\n",
    "with open(file=upload_file_path, mode='rb') as data:    # rb : read binary\n",
    "    blob_client.upload_blob(data)"
   ]
  },
  {
   "attachments": {},
   "cell_type": "markdown",
   "metadata": {},
   "source": [
    "- Blob Storage에 있는 파일들의 목록을 확인한다."
   ]
  },
  {
   "cell_type": "code",
   "execution_count": 34,
   "metadata": {},
   "outputs": [
    {
     "name": "stdout",
     "output_type": "stream",
     "text": [
      "\n",
      "Listing blobs\n",
      "\twelcome.txt\n"
     ]
    }
   ],
   "source": [
    "# blob 파일의 리스트를 확인한다. \n",
    "print('\\nListing blobs')\n",
    "\n",
    "blob_list = container_client.list_blobs()\n",
    "for blob in blob_list:\n",
    "  print('\\t' + blob.name)"
   ]
  },
  {
   "attachments": {},
   "cell_type": "markdown",
   "metadata": {},
   "source": [
    "- Blob Storage에 있는 파일을 Local Storage로 다운로드 받는다. 그리고 다운로드 받은 파일의 경로를 출력한다.\n",
    "    - 이때, 파일의 이름을 `DOWNLOAD.txt` 로 변경한다."
   ]
  },
  {
   "cell_type": "code",
   "execution_count": 35,
   "metadata": {},
   "outputs": [
    {
     "name": "stdout",
     "output_type": "stream",
     "text": [
      "./data\\welcome_DOWNLOAD.txt\n"
     ]
    }
   ],
   "source": [
    "# Download the blob to a local file\n",
    "# Add 'DOWNLOAD' befere the .txt extendsion so you can see both files in the data directory \n",
    "\n",
    "download_file_path = os.path.join(local_path, str.replace(local_file_name,'.txt','_DOWNLOAD.txt'))\n",
    "print(download_file_path)\n",
    "container_client = blob_service_client.get_container_client(container=container_name)\n",
    "\n",
    "with open(file=download_file_path, mode='wb') as download_file:\n",
    "  download_file.write(container_client.download_blob(blob.name).readall())"
   ]
  },
  {
   "attachments": {},
   "cell_type": "markdown",
   "metadata": {},
   "source": [
    "- 지금까지 생성하고 생성된 파일들과 디렉터리를 지운다."
   ]
  },
  {
   "cell_type": "code",
   "execution_count": 36,
   "metadata": {},
   "outputs": [
    {
     "name": "stdout",
     "output_type": "stream",
     "text": [
      "\n",
      "Type 'yes' to begin clean up\n",
      "Deleting blob container...\n",
      "Deleteing the local source and downloaded files....\n",
      "Done\n"
     ]
    }
   ],
   "source": [
    "# Clean Up\n",
    "print('\\nType \\'yes\\' to begin clean up')\n",
    "if input() == 'yes':\n",
    "\n",
    "  print('Deleting blob container...')\n",
    "  container_client.delete_container()     # container_client를 지운다.\n",
    "\n",
    "  print('Deleteing the local source and downloaded files....')\n",
    "  os.remove(upload_file_path)          # 업로드한 파일 지우기\n",
    "  os.remove(download_file_path)        # 다운로드한 파일 지우기\n",
    "  os.rmdir(local_path)                 # 디렉터리 지우기\n",
    "\n",
    "  print('Done')"
   ]
  }
 ],
 "metadata": {
  "kernelspec": {
   "display_name": "base",
   "language": "python",
   "name": "python3"
  },
  "language_info": {
   "codemirror_mode": {
    "name": "ipython",
    "version": 3
   },
   "file_extension": ".py",
   "mimetype": "text/x-python",
   "name": "python",
   "nbconvert_exporter": "python",
   "pygments_lexer": "ipython3",
   "version": "3.10.9"
  },
  "orig_nbformat": 4
 },
 "nbformat": 4,
 "nbformat_minor": 2
}
