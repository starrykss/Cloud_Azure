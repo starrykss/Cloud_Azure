{
  "cells": [
    {
      "cell_type": "markdown",
      "source": [
        "# Azure Machine Learning Studio Notebooks Practice\r\n",
        "---"
      ],
      "metadata": {
        "nteract": {
          "transient": {
            "deleting": false
          }
        }
      }
    },
    {
      "cell_type": "markdown",
      "source": [
        "- 당뇨병 데이터를 이용하여 실습을 진행해보자."
      ],
      "metadata": {
        "nteract": {
          "transient": {
            "deleting": false
          }
        }
      }
    },
    {
      "cell_type": "code",
      "source": [
        "from azureml.core import Workspace\r\n",
        "\r\n",
        "ws = Workspace.from_config()    # 워크 스테이션의 상태 확인\r\n",
        "print('Workspace name: ' + ws.name, '\\n',\r\n",
        "      'Azure Region: ' + ws.location, '\\n',\r\n",
        "      'Subscription ID: ' + ws.subscription_id, '\\n',\r\n",
        "      'Resource Group: ' + ws.resource_group\r\n",
        ")\r\n"
      ],
      "outputs": [
        {
          "output_type": "stream",
          "name": "stdout",
          "text": "Workspace name: labuser111ml \n Azure Region: koreacentral \n Subscription ID: 27db5ec6-d206-4028-b5e1-6004dca5eeef \n Resource Group: rg111\n"
        }
      ],
      "execution_count": 1,
      "metadata": {
        "gather": {
          "logged": 1685629007024
        }
      }
    },
    {
      "cell_type": "markdown",
      "source": [
        "- 실험 공간을 준비한다."
      ],
      "metadata": {
        "nteract": {
          "transient": {
            "deleting": false
          }
        }
      }
    },
    {
      "cell_type": "code",
      "source": [
        "from azureml.core import Experiment\r\n",
        "\r\n",
        "experiment = Experiment(workspace=ws, name='diabetes-experiment')    # 워크 스페이스와 시험의 이름 지정"
      ],
      "outputs": [],
      "execution_count": 2,
      "metadata": {
        "jupyter": {
          "source_hidden": false,
          "outputs_hidden": false
        },
        "nteract": {
          "transient": {
            "deleting": false
          }
        },
        "gather": {
          "logged": 1685629007235
        }
      }
    },
    {
      "cell_type": "markdown",
      "source": [
        "- 데이터를 준비한다."
      ],
      "metadata": {
        "nteract": {
          "transient": {
            "deleting": false
          }
        }
      }
    },
    {
      "cell_type": "code",
      "source": [
        "from azureml.opendatasets import Diabetes\r\n",
        "from sklearn.model_selection import train_test_split\r\n",
        "\r\n",
        "x_df = Diabetes.get_tabular_dataset().to_pandas_dataframe().dropna()\r\n",
        "y_df = x_df.pop('Y')    # Y를 끄집어 낸다.\r\n",
        "\r\n",
        "X_train, X_test, y_train, y_test = train_test_split(x_df, y_df, test_size=0.2, random_state=66)\r\n",
        "\r\n",
        "print(X_train)"
      ],
      "outputs": [
        {
          "output_type": "stream",
          "name": "stdout",
          "text": "     AGE  SEX   BMI     BP   S1     S2    S3    S4      S5   S6\n440   36    1  30.0   95.0  201  125.2  42.0  4.79  5.1299   85\n389   47    2  26.5   70.0  181  104.8  63.0  3.00  4.1897   70\n5     23    1  22.6   89.0  139   64.8  61.0  2.00  4.1897   68\n289   28    2  31.5   83.0  228  149.4  38.0  6.00  5.3132   83\n101   53    2  22.2  113.0  197  115.2  67.0  3.00  4.3041  100\n..   ...  ...   ...    ...  ...    ...   ...   ...     ...  ...\n122   62    2  33.9  101.0  221  156.4  35.0  6.00  4.9972  103\n51    65    2  27.9  103.0  159   96.8  42.0  4.00  4.6151   86\n119   53    1  22.0   94.0  175   88.0  59.0  3.00  4.9416   98\n316   53    2  27.7   95.0  190  101.8  41.0  5.00  5.4638  101\n20    35    1  21.1   82.0  156   87.8  50.0  3.00  4.5109   95\n\n[353 rows x 10 columns]\n"
        }
      ],
      "execution_count": 3,
      "metadata": {
        "jupyter": {
          "source_hidden": false,
          "outputs_hidden": false
        },
        "nteract": {
          "transient": {
            "deleting": false
          }
        },
        "gather": {
          "logged": 1685629012524
        }
      }
    },
    {
      "cell_type": "markdown",
      "source": [
        "- 모델 훈련, 로그, 모델 파일 관리를 해보자."
      ],
      "metadata": {
        "nteract": {
          "transient": {
            "deleting": false
          }
        }
      }
    },
    {
      "cell_type": "code",
      "source": [
        "# 모델 훈련, 로그, 모델 파일 관리\r\n",
        "from sklearn.linear_model import Ridge\r\n",
        "from sklearn.metrics import mean_squared_error\r\n",
        "from sklearn.externals import joblib\r\n",
        "import math\r\n",
        "\r\n",
        "alphas = [0.1, 0.2, 0.3, 0.4, 0.5, 0.6, 0.7, 0.8, 0.9, 1]\r\n",
        "\r\n",
        "for alpha in alphas:\r\n",
        "    # 실험의 로그 기록\r\n",
        "    run = experiment.start_logging()\r\n",
        "    run.log('alpha_value', alpha)    # alpha_value에 alpha 값을 대입한다.\r\n",
        "\r\n",
        "    model = Ridge(alpha=alpha)\r\n",
        "    model.fit(X_train, y_train)\r\n",
        "    y_pred = model.predict(X_test)\r\n",
        "    rmse = math.sqrt(mean_squared_error(y_test, y_pred))\r\n",
        "\r\n",
        "    run.log('rmse', rmse)    # rmse에 rmse 값을 대입한다.\r\n",
        "\r\n",
        "    print('model_alpha={0}, rmse={1}'.format(alpha, rmse))\r\n",
        "\r\n",
        "    # 모델을 파일로 저장하기\r\n",
        "    model_name = 'model_alpha_' + str(alpha) + '.pkl'    # 모델 이름 지정하기\r\n",
        "    filename = 'outputs/' + model_name\r\n",
        "\r\n",
        "    joblib.dump(value=model, filename=filename)\r\n",
        "\r\n",
        "    # Azure ML Service에 모델 파일을 업로드 하기\r\n",
        "    run.upload_file(name=model_name, path_or_stream=filename)\r\n",
        "\r\n",
        "    run.complete()   # 로그 기록을 끝낸다.\r\n",
        "\r\n",
        "    print(f'{alpha} experiment completed.')"
      ],
      "outputs": [
        {
          "output_type": "stream",
          "name": "stderr",
          "text": "/anaconda/envs/azureml_py38/lib/python3.8/site-packages/sklearn/externals/joblib/__init__.py:15: FutureWarning: sklearn.externals.joblib is deprecated in 0.21 and will be removed in 0.23. Please import this functionality directly from joblib, which can be installed with: pip install joblib. If this warning is raised when loading pickled models, you may need to re-serialize those models with scikit-learn 0.21+.\n  warnings.warn(msg, category=FutureWarning)\n"
        },
        {
          "output_type": "stream",
          "name": "stdout",
          "text": "model_alpha=0.1, rmse=56.605203313391435\n0.1 experiment completed.\nmodel_alpha=0.2, rmse=56.61060264545031\n0.2 experiment completed.\nmodel_alpha=0.3, rmse=56.61624324548362\n0.3 experiment completed.\nmodel_alpha=0.4, rmse=56.62210708871013\n0.4 experiment completed.\nmodel_alpha=0.5, rmse=56.628177342751385\n0.5 experiment completed.\nmodel_alpha=0.6, rmse=56.63443828302744\n0.6 experiment completed.\nmodel_alpha=0.7, rmse=56.64087521475942\n0.7 experiment completed.\nmodel_alpha=0.8, rmse=56.64747440101076\n0.8 experiment completed.\nmodel_alpha=0.9, rmse=56.65422299625313\n0.9 experiment completed.\nmodel_alpha=1, rmse=56.661108984990555\n1 experiment completed.\n"
        }
      ],
      "execution_count": 4,
      "metadata": {
        "jupyter": {
          "source_hidden": false,
          "outputs_hidden": false
        },
        "nteract": {
          "transient": {
            "deleting": false
          }
        },
        "gather": {
          "logged": 1685629071478
        }
      }
    },
    {
      "cell_type": "markdown",
      "source": [
        "- Azure ML Service에 업로드한 작업 공간을 연동한다."
      ],
      "metadata": {
        "nteract": {
          "transient": {
            "deleting": false
          }
        }
      }
    },
    {
      "cell_type": "code",
      "source": [
        "from azureml.core import Experiment\r\n",
        "\r\n",
        "experiment = Experiment(workspace=ws, name=\"diabetes-experiment\")\r\n",
        "experiment"
      ],
      "outputs": [
        {
          "output_type": "execute_result",
          "execution_count": 5,
          "data": {
            "text/plain": "Experiment(Name: diabetes-experiment,\nWorkspace: labuser111ml)",
            "text/html": "<table style=\"width:100%\"><tr><th>Name</th><th>Workspace</th><th>Report Page</th><th>Docs Page</th></tr><tr><td>diabetes-experiment</td><td>labuser111ml</td><td><a href=\"https://ml.azure.com/experiments/id/d1fb57f7-7757-4dcd-afa2-ca6648a6fca0?wsid=/subscriptions/27db5ec6-d206-4028-b5e1-6004dca5eeef/resourcegroups/rg111/workspaces/labuser111ml&amp;tid=5fb256f0-fbf2-40d2-81d5-bac1b32c419d\" target=\"_blank\" rel=\"noopener\">Link to Azure Machine Learning studio</a></td><td><a href=\"https://docs.microsoft.com/en-us/python/api/azureml-core/azureml.core.experiment.Experiment?view=azure-ml-py\" target=\"_blank\" rel=\"noopener\">Link to Documentation</a></td></tr></table>"
          },
          "metadata": {}
        }
      ],
      "execution_count": 5,
      "metadata": {
        "jupyter": {
          "source_hidden": false,
          "outputs_hidden": false
        },
        "nteract": {
          "transient": {
            "deleting": false
          }
        },
        "gather": {
          "logged": 1685629071840
        }
      }
    },
    {
      "cell_type": "markdown",
      "source": [
        "- 최고의 모델을 탐색하고 다운로드 해보자."
      ],
      "metadata": {
        "nteract": {
          "transient": {
            "deleting": false
          }
        }
      }
    },
    {
      "cell_type": "code",
      "source": [
        "# Best Model 탐색 후 다운로드\r\n",
        "minimum_rmse = None\r\n",
        "minimum_rmse_runid = None\r\n",
        "\r\n",
        "for exp in experiment.get_runs():\r\n",
        "    run_metrics = exp.get_metrics()\r\n",
        "    run_details = exp.get_details()\r\n",
        "\r\n",
        "    run_rmse = run_metrics['rmse']\r\n",
        "    run_id = run_details['runId']\r\n",
        "\r\n",
        "    # 가장 낮은 rmse 값을 가진 실행 ID를 구하기\r\n",
        "    if minimum_rmse is None:   # 제일 처음 실행시켰을 경우\r\n",
        "        minimum_rmse = run_rmse\r\n",
        "        minimum_rmse_runid = run_id\r\n",
        "    else:\r\n",
        "        if run_rmse < minimum_rmse:\r\n",
        "            minimum_rmse = run_rmse\r\n",
        "            minimum_rmse_runid = run_id\r\n",
        "\r\n",
        "print('Best run_id: ' + minimum_rmse_runid)\r\n",
        "print('Best run_id rmse: ' + str(minimum_rmse))"
      ],
      "outputs": [
        {
          "output_type": "stream",
          "name": "stdout",
          "text": "Best run_id: cb20ac7e-ed7c-476f-b995-5a3aae59c0b8\nBest run_id rmse: 56.605203313391435\n"
        }
      ],
      "execution_count": 6,
      "metadata": {
        "jupyter": {
          "source_hidden": false,
          "outputs_hidden": false
        },
        "nteract": {
          "transient": {
            "deleting": false
          }
        },
        "gather": {
          "logged": 1685629087520
        }
      }
    },
    {
      "cell_type": "markdown",
      "source": [
        "- Best Model을 다운로드 받아보자."
      ],
      "metadata": {
        "nteract": {
          "transient": {
            "deleting": false
          }
        }
      }
    },
    {
      "cell_type": "code",
      "source": [
        "from azureml.core import Run\r\n",
        "\r\n",
        "best_run = Run(experiment=experiment, run_id=minimum_rmse_runid)\r\n",
        "print(best_run.get_file_names())\r\n",
        "\r\n",
        "best_run.download_file(name=str(best_run.get_file_names()[0]))"
      ],
      "outputs": [
        {
          "output_type": "stream",
          "name": "stdout",
          "text": "['model_alpha_0.1.pkl', 'outputs/.amlignore', 'outputs/.amlignore.amltmp', 'outputs/model_alpha_0.1.pkl', 'outputs/model_alpha_0.2.pkl', 'outputs/model_alpha_0.3.pkl', 'outputs/model_alpha_0.4.pkl', 'outputs/model_alpha_0.5.pkl', 'outputs/model_alpha_0.6.pkl', 'outputs/model_alpha_0.7.pkl', 'outputs/model_alpha_0.8.pkl', 'outputs/model_alpha_0.9.pkl', 'outputs/model_alpha_1.pkl']\n"
        }
      ],
      "execution_count": 7,
      "metadata": {
        "jupyter": {
          "source_hidden": false,
          "outputs_hidden": false
        },
        "nteract": {
          "transient": {
            "deleting": false
          }
        },
        "gather": {
          "logged": 1685629087929
        }
      }
    },
    {
      "cell_type": "markdown",
      "source": [
        "---"
      ],
      "metadata": {
        "nteract": {
          "transient": {
            "deleting": false
          }
        }
      }
    },
    {
      "cell_type": "markdown",
      "source": [
        "- 실험에서 사용했던 데이터들을 Data Store에 체계적으로 저장해보자. 우선, 모델에서 사용했던 Feature와 Label을 `.csv` 파일로 저장한다. 그리고 Data Store에 업로드해본다."
      ],
      "metadata": {
        "nteract": {
          "transient": {
            "deleting": false
          }
        }
      }
    },
    {
      "cell_type": "code",
      "source": [
        "import numpy as np\r\n",
        "from azureml.core import Dataset\r\n",
        "\r\n",
        "# csv 파일로 저장하기\r\n",
        "np.savetxt('feature.csv', X_train, delimiter=',')     # Feature 데이터 저장\r\n",
        "np.savetxt('label.csv', y_train, delimiter=',')     # Label 데이터 저장\r\n",
        "\r\n",
        "# Data Store에 업로드 하기\r\n",
        "datastore = ws.get_default_datastore()     # Data Store 정보 가져오기\r\n",
        "\r\n",
        "datastore.upload_files(files=['./feature.csv', './label.csv'],\r\n",
        "                        target_path='diabetes-experiment/',      # 업로드 할 경로 \r\n",
        "                        overwrite=True                           # 덮어쓰기 가능\r\n",
        ")"
      ],
      "outputs": [
        {
          "output_type": "stream",
          "name": "stderr",
          "text": "\"datastore.upload_files\" is deprecated after version 1.0.69. Please use \"FileDatasetFactory.upload_directory\" instead. See Dataset API change notice at https://aka.ms/dataset-deprecation.\n"
        },
        {
          "output_type": "stream",
          "name": "stdout",
          "text": "Uploading an estimated of 2 files\nUploading ./feature.csv\nUploaded ./feature.csv, 1 files out of an estimated total of 2\nUploading ./label.csv\nUploaded ./label.csv, 2 files out of an estimated total of 2\nUploaded 2 files\n"
        },
        {
          "output_type": "execute_result",
          "execution_count": 10,
          "data": {
            "text/plain": "$AZUREML_DATAREFERENCE_738d30174f5e49d596d3f18b8e96aa50"
          },
          "metadata": {}
        }
      ],
      "execution_count": 10,
      "metadata": {
        "jupyter": {
          "source_hidden": false,
          "outputs_hidden": false
        },
        "nteract": {
          "transient": {
            "deleting": false
          }
        },
        "gather": {
          "logged": 1685696358759
        }
      }
    },
    {
      "cell_type": "markdown",
      "source": [
        "- Data Store에 저장되어 있는 파일들을 가져와보자."
      ],
      "metadata": {
        "nteract": {
          "transient": {
            "deleting": false
          }
        }
      }
    },
    {
      "cell_type": "code",
      "source": [
        "feature_dataset = Dataset.Tabular.from_delimited_files(path=[(datastore, 'diabetes-experiment/feature.csv')])    # 해당 경로에 있는 파일들을 가져온다.\r\n",
        "label_dataset = Dataset.Tabular.from_delimited_files(path=[(datastore, 'diabetes-experiment/label.csv')])"
      ],
      "outputs": [],
      "execution_count": 11,
      "metadata": {
        "jupyter": {
          "source_hidden": false,
          "outputs_hidden": false
        },
        "nteract": {
          "transient": {
            "deleting": false
          }
        },
        "gather": {
          "logged": 1685696965171
        }
      }
    },
    {
      "cell_type": "markdown",
      "source": [
        "- 생성했었던 Best Model을 Data Store에 등록해보자."
      ],
      "metadata": {
        "nteract": {
          "transient": {
            "deleting": false
          }
        }
      }
    },
    {
      "cell_type": "code",
      "source": [
        "import sklearn\r\n",
        "\r\n",
        "from azureml.core import Model\r\n",
        "from azureml.core.resource_configuration import ResourceConfiguration"
      ],
      "outputs": [],
      "execution_count": 13,
      "metadata": {
        "jupyter": {
          "source_hidden": false,
          "outputs_hidden": false
        },
        "nteract": {
          "transient": {
            "deleting": false
          }
        },
        "gather": {
          "logged": 1685697064150
        }
      }
    },
    {
      "cell_type": "code",
      "source": [
        "# 모델의 등록\r\n",
        "model = Model.register(workspace=ws,\r\n",
        "                model_name='diabetes-experiment-data',\r\n",
        "                model_path=f'./{str(best_run.get_file_names()[0])}',\r\n",
        "                model_framework=Model.Framework.SCIKITLEARN,    # 사이킷런\r\n",
        "                model_framework_version=sklearn.__version__,\r\n",
        "                sample_input_dataset=feature_dataset,\r\n",
        "                sample_output_dataset=label_dataset,\r\n",
        "                resource_configuration=ResourceConfiguration(cpu=1, memory_in_gb=0.5),    # 실행 환경 지정 : CPU 1개, 0.5GB RAM\r\n",
        "                description='Ridge Regression Model to predict diabetes progression',\r\n",
        "                tags={'area' : 'diabetes', 'type' : 'regression'}\r\n",
        "        )"
      ],
      "outputs": [
        {
          "output_type": "stream",
          "name": "stdout",
          "text": "Registering model diabetes-experiment-data\n"
        }
      ],
      "execution_count": 15,
      "metadata": {
        "jupyter": {
          "source_hidden": false,
          "outputs_hidden": false
        },
        "nteract": {
          "transient": {
            "deleting": false
          }
        },
        "gather": {
          "logged": 1685697689832
        }
      }
    },
    {
      "cell_type": "markdown",
      "source": [
        "- Data Store에 모델이 등록되었는지 확인해본다."
      ],
      "metadata": {
        "nteract": {
          "transient": {
            "deleting": false
          }
        }
      }
    },
    {
      "cell_type": "code",
      "source": [
        "print('Model Name: ', model.name)\r\n",
        "print('Model Version: ', model.version)"
      ],
      "outputs": [
        {
          "output_type": "stream",
          "name": "stdout",
          "text": "Model Name:  diabetes-experiment-data\nModel Version:  1\n"
        }
      ],
      "execution_count": 16,
      "metadata": {
        "jupyter": {
          "source_hidden": false,
          "outputs_hidden": false
        },
        "nteract": {
          "transient": {
            "deleting": false
          }
        },
        "gather": {
          "logged": 1685698051335
        }
      }
    },
    {
      "cell_type": "markdown",
      "source": [
        "- 이제 모델을 **배포**해보자."
      ],
      "metadata": {
        "nteract": {
          "transient": {
            "deleting": false
          }
        }
      }
    },
    {
      "cell_type": "code",
      "source": [
        "# 모델의 배포\r\n",
        "service_name = 'diabetes-service'\r\n",
        "\r\n",
        "service = Model.deploy(ws, service_name, [model], overwrite=True)   # 모델은 여러 개 배포할 수 있기 때문에 리스트 타입으로 표현한다.\r\n",
        "service.wait_for_deployment(show_output=True)"
      ],
      "outputs": [
        {
          "output_type": "stream",
          "name": "stderr",
          "text": "/tmp/ipykernel_258553/2249341978.py:4: FutureWarning: azureml.core.model:\nTo leverage new model deployment capabilities, AzureML recommends using CLI/SDK v2 to deploy models as online endpoint, \nplease refer to respective documentations \nhttps://docs.microsoft.com/azure/machine-learning/how-to-deploy-managed-online-endpoints /\nhttps://docs.microsoft.com/azure/machine-learning/how-to-attach-kubernetes-anywhere \nFor more information on migration, see https://aka.ms/acimoemigration \nTo disable CLI/SDK v1 deprecation warning set AZUREML_LOG_DEPRECATION_WARNING_ENABLED to 'False'\n  service = Model.deploy(ws, service_name, [model], overwrite=True)   # 모델은 여러 개 배포할 수 있기 때문에 리스트 타입으로 표현한다.\n"
        },
        {
          "output_type": "stream",
          "name": "stdout",
          "text": "Tips: You can try get_logs(): https://aka.ms/debugimage#dockerlog or local deployment: https://aka.ms/debugimage#debug-locally to debug if deployment takes longer than 10 minutes.\nRunning\n2023-06-02 09:32:16+00:00 Creating Container Registry if not exists..\n2023-06-02 09:42:16+00:00 Registering the environment..\n2023-06-02 09:42:18+00:00 Uploading autogenerated assets for no-code-deployment.\n2023-06-02 09:42:22+00:00 Building image..\n2023-06-02 09:52:36+00:00 Generating deployment configuration.\n2023-06-02 09:52:37+00:00 Submitting deployment to compute..\n2023-06-02 09:52:46+00:00 Checking the status of deployment diabetes-service..\n2023-06-02 09:54:11+00:00 Checking the status of inference endpoint diabetes-service.\nSucceeded\nACI service creation operation finished, operation \"Succeeded\"\n"
        }
      ],
      "execution_count": 17,
      "metadata": {
        "jupyter": {
          "source_hidden": false,
          "outputs_hidden": false
        },
        "nteract": {
          "transient": {
            "deleting": false
          }
        },
        "gather": {
          "logged": 1685699656919
        },
        "collapsed": false
      }
    },
    {
      "cell_type": "markdown",
      "source": [
        "- 배포 완료 후, 서비스 안에서 배포된 모델을 이용하여 예측 작업을 수행해보자."
      ],
      "metadata": {
        "nteract": {
          "transient": {
            "deleting": false
          }
        }
      }
    },
    {
      "cell_type": "code",
      "source": [
        "import json\r\n",
        "\r\n",
        "input_payload = json.dumps({\r\n",
        "    'data': X_train[0:2].values.tolist(),\r\n",
        "    'method': 'predict'     # 예측 작업 수행 \r\n",
        "})\r\n",
        "\r\n",
        "output = service.run(input_payload)\r\n",
        "print(output)"
      ],
      "outputs": [
        {
          "output_type": "stream",
          "name": "stdout",
          "text": "{'predict': [204.94506937062147, 74.4641225933554]}\n"
        }
      ],
      "execution_count": 18,
      "metadata": {
        "jupyter": {
          "source_hidden": false,
          "outputs_hidden": false
        },
        "nteract": {
          "transient": {
            "deleting": false
          }
        },
        "gather": {
          "logged": 1685704601510
        }
      }
    },
    {
      "cell_type": "code",
      "source": [],
      "outputs": [],
      "execution_count": null,
      "metadata": {
        "jupyter": {
          "source_hidden": false,
          "outputs_hidden": false
        },
        "nteract": {
          "transient": {
            "deleting": false
          }
        }
      }
    }
  ],
  "metadata": {
    "kernelspec": {
      "name": "python38-azureml",
      "language": "python",
      "display_name": "Python 3.8 - AzureML"
    },
    "language_info": {
      "name": "python",
      "version": "3.8.5",
      "mimetype": "text/x-python",
      "codemirror_mode": {
        "name": "ipython",
        "version": 3
      },
      "pygments_lexer": "ipython3",
      "nbconvert_exporter": "python",
      "file_extension": ".py"
    },
    "microsoft": {
      "ms_spell_check": {
        "ms_spell_check_language": "en"
      },
      "host": {
        "AzureML": {
          "notebookHasBeenCompleted": true
        }
      }
    },
    "kernel_info": {
      "name": "python38-azureml"
    },
    "nteract": {
      "version": "nteract-front-end@1.0.0"
    }
  },
  "nbformat": 4,
  "nbformat_minor": 2
}